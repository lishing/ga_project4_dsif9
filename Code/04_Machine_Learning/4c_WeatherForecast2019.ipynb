{
 "cells": [
  {
   "cell_type": "markdown",
   "id": "74cffd8f-e9b7-4151-8b05-41456d7df75b",
   "metadata": {},
   "source": [
    "# Collecting Weather Climate Data for period 2019\n",
    "\n",
    "In this section, we collect the Weather Climate Data for the period of 2019. The data collected will act as part of the exogenous variables for the SARIMA forecast of the dengue cases for the 'unseen' 2019."
   ]
  },
  {
   "cell_type": "code",
   "execution_count": 1,
   "id": "2e2ab527-d026-4fca-ae34-cdc3e209ce2a",
   "metadata": {},
   "outputs": [],
   "source": [
    "from selenium import webdriver\n",
    "from selenium.webdriver.common.keys import Keys\n",
    "from selenium.webdriver.common.by import By\n",
    "from bs4 import BeautifulSoup\n",
    "import time\n",
    "import re\n",
    "import requests \n",
    "import pandas as pd\n",
    "import pickle"
   ]
  },
  {
   "cell_type": "code",
   "execution_count": 2,
   "id": "42bb9da2-4771-4878-8506-dfe4d217522b",
   "metadata": {
    "collapsed": true,
    "jupyter": {
     "outputs_hidden": true
    },
    "tags": []
   },
   "outputs": [
    {
     "name": "stderr",
     "output_type": "stream",
     "text": [
      "/var/folders/t4/n89gfp4s10b4j476kq4xh2p00000gn/T/ipykernel_61508/3074833328.py:1: DeprecationWarning: executable_path has been deprecated, please pass in a Service object\n",
      "  driver = webdriver.Chrome('Users/wongh/Downloads/chromedriver_win32/chromedriver.exe')\n"
     ]
    },
    {
     "ename": "WebDriverException",
     "evalue": "Message: 'chromedriver.exe' executable needs to be in PATH. Please see https://chromedriver.chromium.org/home\n",
     "output_type": "error",
     "traceback": [
      "\u001b[0;31m---------------------------------------------------------------------------\u001b[0m",
      "\u001b[0;31mSeleniumManagerException\u001b[0m                  Traceback (most recent call last)",
      "File \u001b[0;32m/usr/local/Caskroom/miniconda/base/envs/dsi-sg/lib/python3.9/site-packages/selenium/webdriver/common/service.py:97\u001b[0m, in \u001b[0;36mService.start\u001b[0;34m(self)\u001b[0m\n\u001b[1;32m     96\u001b[0m \u001b[38;5;28;01mtry\u001b[39;00m:\n\u001b[0;32m---> 97\u001b[0m     path \u001b[38;5;241m=\u001b[39m \u001b[43mSeleniumManager\u001b[49m\u001b[43m(\u001b[49m\u001b[43m)\u001b[49m\u001b[38;5;241;43m.\u001b[39;49m\u001b[43mdriver_location\u001b[49m\u001b[43m(\u001b[49m\u001b[43mbrowser\u001b[49m\u001b[43m)\u001b[49m\n\u001b[1;32m     98\u001b[0m \u001b[38;5;28;01mexcept\u001b[39;00m WebDriverException \u001b[38;5;28;01mas\u001b[39;00m new_err:\n",
      "File \u001b[0;32m/usr/local/Caskroom/miniconda/base/envs/dsi-sg/lib/python3.9/site-packages/selenium/webdriver/common/selenium_manager.py:74\u001b[0m, in \u001b[0;36mSeleniumManager.driver_location\u001b[0;34m(self, browser)\u001b[0m\n\u001b[1;32m     73\u001b[0m binary, flag, browser \u001b[38;5;241m=\u001b[39m \u001b[38;5;28mstr\u001b[39m(\u001b[38;5;28mself\u001b[39m\u001b[38;5;241m.\u001b[39mget_binary()), \u001b[38;5;124m\"\u001b[39m\u001b[38;5;124m--browser\u001b[39m\u001b[38;5;124m\"\u001b[39m, browser\n\u001b[0;32m---> 74\u001b[0m result \u001b[38;5;241m=\u001b[39m \u001b[38;5;28;43mself\u001b[39;49m\u001b[38;5;241;43m.\u001b[39;49m\u001b[43mrun\u001b[49m\u001b[43m(\u001b[49m\u001b[43m(\u001b[49m\u001b[43mbinary\u001b[49m\u001b[43m,\u001b[49m\u001b[43m \u001b[49m\u001b[43mflag\u001b[49m\u001b[43m,\u001b[49m\u001b[43m \u001b[49m\u001b[43mbrowser\u001b[49m\u001b[43m)\u001b[49m\u001b[43m)\u001b[49m\n\u001b[1;32m     75\u001b[0m executable \u001b[38;5;241m=\u001b[39m result\u001b[38;5;241m.\u001b[39msplit(\u001b[38;5;124m\"\u001b[39m\u001b[38;5;130;01m\\t\u001b[39;00m\u001b[38;5;124m\"\u001b[39m)[\u001b[38;5;241m-\u001b[39m\u001b[38;5;241m1\u001b[39m]\u001b[38;5;241m.\u001b[39mstrip()\n",
      "File \u001b[0;32m/usr/local/Caskroom/miniconda/base/envs/dsi-sg/lib/python3.9/site-packages/selenium/webdriver/common/selenium_manager.py:93\u001b[0m, in \u001b[0;36mSeleniumManager.run\u001b[0;34m(args)\u001b[0m\n\u001b[1;32m     92\u001b[0m \u001b[38;5;28;01mif\u001b[39;00m completed_proc\u001b[38;5;241m.\u001b[39mreturncode:\n\u001b[0;32m---> 93\u001b[0m     \u001b[38;5;28;01mraise\u001b[39;00m SeleniumManagerException(\u001b[38;5;124mf\u001b[39m\u001b[38;5;124m\"\u001b[39m\u001b[38;5;124mSelenium manager failed for: \u001b[39m\u001b[38;5;132;01m{\u001b[39;00mcommand\u001b[38;5;132;01m}\u001b[39;00m\u001b[38;5;124m. \u001b[39m\u001b[38;5;132;01m{\u001b[39;00mstderr\u001b[38;5;132;01m}\u001b[39;00m\u001b[38;5;124m\"\u001b[39m)\n\u001b[1;32m     94\u001b[0m \u001b[38;5;28;01melse\u001b[39;00m:\n\u001b[1;32m     95\u001b[0m     \u001b[38;5;66;03m# selenium manager exited 0 successfully, parse the executable path from stdout.\u001b[39;00m\n",
      "\u001b[0;31mSeleniumManagerException\u001b[0m: Message: Selenium manager failed for: /usr/local/Caskroom/miniconda/base/envs/dsi-sg/lib/python3.9/site-packages/selenium/webdriver/common/macos/selenium-manager --browser chrome. \n",
      "\nDuring handling of the above exception, another exception occurred:\n",
      "\u001b[0;31mWebDriverException\u001b[0m                        Traceback (most recent call last)",
      "Cell \u001b[0;32mIn [2], line 1\u001b[0m\n\u001b[0;32m----> 1\u001b[0m driver \u001b[38;5;241m=\u001b[39m \u001b[43mwebdriver\u001b[49m\u001b[38;5;241;43m.\u001b[39;49m\u001b[43mChrome\u001b[49m\u001b[43m(\u001b[49m\u001b[38;5;124;43m'\u001b[39;49m\u001b[38;5;124;43mUsers/wongh/Downloads/chromedriver_win32/chromedriver.exe\u001b[39;49m\u001b[38;5;124;43m'\u001b[39;49m\u001b[43m)\u001b[49m\n",
      "File \u001b[0;32m/usr/local/Caskroom/miniconda/base/envs/dsi-sg/lib/python3.9/site-packages/selenium/webdriver/chrome/webdriver.py:81\u001b[0m, in \u001b[0;36mWebDriver.__init__\u001b[0;34m(self, executable_path, port, options, service_args, desired_capabilities, service_log_path, chrome_options, service, keep_alive)\u001b[0m\n\u001b[1;32m     78\u001b[0m \u001b[38;5;28;01mif\u001b[39;00m \u001b[38;5;129;01mnot\u001b[39;00m service:\n\u001b[1;32m     79\u001b[0m     service \u001b[38;5;241m=\u001b[39m Service(executable_path, port, service_args, service_log_path)\n\u001b[0;32m---> 81\u001b[0m \u001b[38;5;28;43msuper\u001b[39;49m\u001b[43m(\u001b[49m\u001b[43m)\u001b[49m\u001b[38;5;241;43m.\u001b[39;49m\u001b[38;5;21;43m__init__\u001b[39;49m\u001b[43m(\u001b[49m\n\u001b[1;32m     82\u001b[0m \u001b[43m    \u001b[49m\u001b[43mDesiredCapabilities\u001b[49m\u001b[38;5;241;43m.\u001b[39;49m\u001b[43mCHROME\u001b[49m\u001b[43m[\u001b[49m\u001b[38;5;124;43m\"\u001b[39;49m\u001b[38;5;124;43mbrowserName\u001b[39;49m\u001b[38;5;124;43m\"\u001b[39;49m\u001b[43m]\u001b[49m\u001b[43m,\u001b[49m\n\u001b[1;32m     83\u001b[0m \u001b[43m    \u001b[49m\u001b[38;5;124;43m\"\u001b[39;49m\u001b[38;5;124;43mgoog\u001b[39;49m\u001b[38;5;124;43m\"\u001b[39;49m\u001b[43m,\u001b[49m\n\u001b[1;32m     84\u001b[0m \u001b[43m    \u001b[49m\u001b[43mport\u001b[49m\u001b[43m,\u001b[49m\n\u001b[1;32m     85\u001b[0m \u001b[43m    \u001b[49m\u001b[43moptions\u001b[49m\u001b[43m,\u001b[49m\n\u001b[1;32m     86\u001b[0m \u001b[43m    \u001b[49m\u001b[43mservice_args\u001b[49m\u001b[43m,\u001b[49m\n\u001b[1;32m     87\u001b[0m \u001b[43m    \u001b[49m\u001b[43mdesired_capabilities\u001b[49m\u001b[43m,\u001b[49m\n\u001b[1;32m     88\u001b[0m \u001b[43m    \u001b[49m\u001b[43mservice_log_path\u001b[49m\u001b[43m,\u001b[49m\n\u001b[1;32m     89\u001b[0m \u001b[43m    \u001b[49m\u001b[43mservice\u001b[49m\u001b[43m,\u001b[49m\n\u001b[1;32m     90\u001b[0m \u001b[43m    \u001b[49m\u001b[43mkeep_alive\u001b[49m\u001b[43m,\u001b[49m\n\u001b[1;32m     91\u001b[0m \u001b[43m\u001b[49m\u001b[43m)\u001b[49m\n",
      "File \u001b[0;32m/usr/local/Caskroom/miniconda/base/envs/dsi-sg/lib/python3.9/site-packages/selenium/webdriver/chromium/webdriver.py:103\u001b[0m, in \u001b[0;36mChromiumDriver.__init__\u001b[0;34m(self, browser_name, vendor_prefix, port, options, service_args, desired_capabilities, service_log_path, service, keep_alive)\u001b[0m\n\u001b[1;32m    100\u001b[0m     \u001b[38;5;28;01mraise\u001b[39;00m \u001b[38;5;167;01mAttributeError\u001b[39;00m(\u001b[38;5;124m\"\u001b[39m\u001b[38;5;124mservice cannot be None\u001b[39m\u001b[38;5;124m\"\u001b[39m)\n\u001b[1;32m    102\u001b[0m \u001b[38;5;28mself\u001b[39m\u001b[38;5;241m.\u001b[39mservice \u001b[38;5;241m=\u001b[39m service\n\u001b[0;32m--> 103\u001b[0m \u001b[38;5;28;43mself\u001b[39;49m\u001b[38;5;241;43m.\u001b[39;49m\u001b[43mservice\u001b[49m\u001b[38;5;241;43m.\u001b[39;49m\u001b[43mstart\u001b[49m\u001b[43m(\u001b[49m\u001b[43m)\u001b[49m\n\u001b[1;32m    105\u001b[0m \u001b[38;5;28;01mtry\u001b[39;00m:\n\u001b[1;32m    106\u001b[0m     \u001b[38;5;28msuper\u001b[39m()\u001b[38;5;241m.\u001b[39m\u001b[38;5;21m__init__\u001b[39m(\n\u001b[1;32m    107\u001b[0m         command_executor\u001b[38;5;241m=\u001b[39mChromiumRemoteConnection(\n\u001b[1;32m    108\u001b[0m             remote_server_addr\u001b[38;5;241m=\u001b[39m\u001b[38;5;28mself\u001b[39m\u001b[38;5;241m.\u001b[39mservice\u001b[38;5;241m.\u001b[39mservice_url,\n\u001b[0;32m   (...)\u001b[0m\n\u001b[1;32m    114\u001b[0m         options\u001b[38;5;241m=\u001b[39moptions,\n\u001b[1;32m    115\u001b[0m     )\n",
      "File \u001b[0;32m/usr/local/Caskroom/miniconda/base/envs/dsi-sg/lib/python3.9/site-packages/selenium/webdriver/common/service.py:100\u001b[0m, in \u001b[0;36mService.start\u001b[0;34m(self)\u001b[0m\n\u001b[1;32m     98\u001b[0m         \u001b[38;5;28;01mexcept\u001b[39;00m WebDriverException \u001b[38;5;28;01mas\u001b[39;00m new_err:\n\u001b[1;32m     99\u001b[0m             logger\u001b[38;5;241m.\u001b[39mdebug(\u001b[38;5;124m\"\u001b[39m\u001b[38;5;124mUnable to obtain driver using Selenium Manager: \u001b[39m\u001b[38;5;124m\"\u001b[39m \u001b[38;5;241m+\u001b[39m new_err\u001b[38;5;241m.\u001b[39mmsg)\n\u001b[0;32m--> 100\u001b[0m             \u001b[38;5;28;01mraise\u001b[39;00m err\n\u001b[1;32m    102\u001b[0m         \u001b[38;5;28mself\u001b[39m\u001b[38;5;241m.\u001b[39m_start_process(path)\n\u001b[1;32m    104\u001b[0m count \u001b[38;5;241m=\u001b[39m \u001b[38;5;241m0\u001b[39m\n",
      "File \u001b[0;32m/usr/local/Caskroom/miniconda/base/envs/dsi-sg/lib/python3.9/site-packages/selenium/webdriver/common/service.py:90\u001b[0m, in \u001b[0;36mService.start\u001b[0;34m(self)\u001b[0m\n\u001b[1;32m     82\u001b[0m \u001b[38;5;124;03m\"\"\"\u001b[39;00m\n\u001b[1;32m     83\u001b[0m \u001b[38;5;124;03mStarts the Service.\u001b[39;00m\n\u001b[1;32m     84\u001b[0m \n\u001b[0;32m   (...)\u001b[0m\n\u001b[1;32m     87\u001b[0m \u001b[38;5;124;03m   or when it can't connect to the service\u001b[39;00m\n\u001b[1;32m     88\u001b[0m \u001b[38;5;124;03m\"\"\"\u001b[39;00m\n\u001b[1;32m     89\u001b[0m \u001b[38;5;28;01mtry\u001b[39;00m:\n\u001b[0;32m---> 90\u001b[0m     \u001b[38;5;28;43mself\u001b[39;49m\u001b[38;5;241;43m.\u001b[39;49m\u001b[43m_start_process\u001b[49m\u001b[43m(\u001b[49m\u001b[38;5;28;43mself\u001b[39;49m\u001b[38;5;241;43m.\u001b[39;49m\u001b[43mpath\u001b[49m\u001b[43m)\u001b[49m\n\u001b[1;32m     91\u001b[0m \u001b[38;5;28;01mexcept\u001b[39;00m WebDriverException \u001b[38;5;28;01mas\u001b[39;00m err:\n\u001b[1;32m     92\u001b[0m     \u001b[38;5;28;01mif\u001b[39;00m \u001b[38;5;124m\"\u001b[39m\u001b[38;5;124mexecutable needs to be in PATH\u001b[39m\u001b[38;5;124m\"\u001b[39m \u001b[38;5;129;01min\u001b[39;00m err\u001b[38;5;241m.\u001b[39mmsg:\n",
      "File \u001b[0;32m/usr/local/Caskroom/miniconda/base/envs/dsi-sg/lib/python3.9/site-packages/selenium/webdriver/common/service.py:213\u001b[0m, in \u001b[0;36mService._start_process\u001b[0;34m(self, path)\u001b[0m\n\u001b[1;32m    211\u001b[0m \u001b[38;5;28;01mexcept\u001b[39;00m \u001b[38;5;167;01mOSError\u001b[39;00m \u001b[38;5;28;01mas\u001b[39;00m err:\n\u001b[1;32m    212\u001b[0m     \u001b[38;5;28;01mif\u001b[39;00m err\u001b[38;5;241m.\u001b[39merrno \u001b[38;5;241m==\u001b[39m errno\u001b[38;5;241m.\u001b[39mENOENT:\n\u001b[0;32m--> 213\u001b[0m         \u001b[38;5;28;01mraise\u001b[39;00m WebDriverException(\n\u001b[1;32m    214\u001b[0m             \u001b[38;5;124mf\u001b[39m\u001b[38;5;124m\"\u001b[39m\u001b[38;5;124m'\u001b[39m\u001b[38;5;132;01m{\u001b[39;00mos\u001b[38;5;241m.\u001b[39mpath\u001b[38;5;241m.\u001b[39mbasename(\u001b[38;5;28mself\u001b[39m\u001b[38;5;241m.\u001b[39mpath)\u001b[38;5;132;01m}\u001b[39;00m\u001b[38;5;124m'\u001b[39m\u001b[38;5;124m executable needs to be in PATH. \u001b[39m\u001b[38;5;132;01m{\u001b[39;00m\u001b[38;5;28mself\u001b[39m\u001b[38;5;241m.\u001b[39mstart_error_message\u001b[38;5;132;01m}\u001b[39;00m\u001b[38;5;124m\"\u001b[39m\n\u001b[1;32m    215\u001b[0m         )\n\u001b[1;32m    216\u001b[0m     \u001b[38;5;28;01melif\u001b[39;00m err\u001b[38;5;241m.\u001b[39merrno \u001b[38;5;241m==\u001b[39m errno\u001b[38;5;241m.\u001b[39mEACCES:\n\u001b[1;32m    217\u001b[0m         \u001b[38;5;28;01mraise\u001b[39;00m WebDriverException(\n\u001b[1;32m    218\u001b[0m             \u001b[38;5;124mf\u001b[39m\u001b[38;5;124m\"\u001b[39m\u001b[38;5;124m'\u001b[39m\u001b[38;5;132;01m{\u001b[39;00mos\u001b[38;5;241m.\u001b[39mpath\u001b[38;5;241m.\u001b[39mbasename(\u001b[38;5;28mself\u001b[39m\u001b[38;5;241m.\u001b[39mpath)\u001b[38;5;132;01m}\u001b[39;00m\u001b[38;5;124m'\u001b[39m\u001b[38;5;124m executable may have wrong permissions. \u001b[39m\u001b[38;5;132;01m{\u001b[39;00m\u001b[38;5;28mself\u001b[39m\u001b[38;5;241m.\u001b[39mstart_error_message\u001b[38;5;132;01m}\u001b[39;00m\u001b[38;5;124m\"\u001b[39m\n\u001b[1;32m    219\u001b[0m         )\n",
      "\u001b[0;31mWebDriverException\u001b[0m: Message: 'chromedriver.exe' executable needs to be in PATH. Please see https://chromedriver.chromium.org/home\n"
     ]
    }
   ],
   "source": [
    "driver = webdriver.Chrome('Users/wongh/Downloads/chromedriver_win32/chromedriver.exe')"
   ]
  },
  {
   "cell_type": "code",
   "execution_count": null,
   "id": "4d8dabfd-f734-49bd-aa7c-0525b534d6e5",
   "metadata": {},
   "outputs": [],
   "source": [
    "def get_html_table_as_df(table_xpath,df_to_save):\n",
    "    '''This saves a html table as a df. \n",
    "    Rmb to create an empty df to save the data to before executing this function. \n",
    "    If the df to save the data to is not empty, this function appends cases'''\n",
    "      \n",
    "    # Use find_element_by_xpath method to locate an element\n",
    "    table_html = driver.find_element(by=By.XPATH, value=table_xpath).get_attribute('outerHTML')\n",
    "    \n",
    "    data_table = pd.read_html(table_html)\n",
    "    df = data_table[0]\n",
    "    if df_to_save.empty:\n",
    "        df_to_save = data_table[0]\n",
    "    else: df_to_save = df_to_save.append(data_table[0])\n",
    "    return df_to_save"
   ]
  },
  {
   "cell_type": "code",
   "execution_count": null,
   "id": "edf8728d-93a7-4aad-9671-c4fd0f935f43",
   "metadata": {},
   "outputs": [],
   "source": [
    "mss_url = 'http://www.weather.gov.sg/climate-historical-daily/'\n",
    "driver.get(mss_url)\n",
    "time.sleep(2)"
   ]
  },
  {
   "cell_type": "code",
   "execution_count": null,
   "id": "8fb0f8c8-b6e0-4584-ae38-c9fce3ca7845",
   "metadata": {},
   "outputs": [],
   "source": [
    "def button_dropdown_option_loop(option_xpath_id, number_of_options, display_button_xpath, \n",
    "                                table_xpath, df_to_save):\n",
    "    '''This function selects the button and clicks on each option in order, starting from the top.\n",
    "    Diplay button is then clicked to display the table below, and saves the table as a df'''\n",
    "    for option in range(1,number_of_options+1):\n",
    "        driver.find_element(by=By.XPATH, value=option_xpath_id).click()\n",
    "        driver.find_element(by=By.XPATH, value=option_xpath_id+'/ul/li['+str(option)+']/a').click()\n",
    "        driver.find_element(by=By.XPATH, value=display_button_xpath).click()\n",
    "        time.sleep(2)\n",
    "        df_to_save = get_html_table_as_df(table_xpath, df_to_save) \n",
    "        time.sleep(1)\n",
    "    return df_to_save"
   ]
  },
  {
   "cell_type": "code",
   "execution_count": null,
   "id": "27ee29d8-4a68-4262-ac1e-019b95bfbadb",
   "metadata": {},
   "outputs": [],
   "source": [
    "def button_dropdown_option(option_xpath_id, option_index, display_button_xpath):\n",
    "    '''This function selects the button and clicks on a specific option.\n",
    "    Index[1] is the first option from the top. \n",
    "    Diplay button is then clicked to display the table below'''\n",
    "    driver.find_element(by=By.XPATH, value=option_xpath_id).click()\n",
    "    driver.find_element(by=By.XPATH, value=option_xpath_id+'/ul/li['+str(option_index)+']/a').click()\n",
    "    driver.find_element(by=By.XPATH, value=display_button_xpath).click()\n",
    "    time.sleep(1)"
   ]
  },
  {
   "cell_type": "code",
   "execution_count": null,
   "id": "31da724e-ee53-4b7a-9736-6a836019f7b7",
   "metadata": {},
   "outputs": [],
   "source": [
    "month_option_xpath_id = '//*[@id=\"monthDiv\"]'\n",
    "display_button_xpath = '//*[@id=\"display\"]'\n",
    "year_option_xpath_id = '//*[@id=\"yearDiv\"]'\n",
    "\n",
    "table_xpath = '//*[@id=\"temp\"]/h4[2]/div/div/table'\n",
    "\n",
    "### we are gonna do this one at a time because:\n",
    "### a) this page loads very slowly\n",
    "### b) we need to add a year column\n",
    "### c) random errors seem to be happening (but seem to have disappeared when I increased the timer)\n",
    "### d) I don't know how to create a loop that creates variabe names dynamically (e.)"
   ]
  },
  {
   "cell_type": "code",
   "execution_count": null,
   "id": "7616de97-3257-4105-820f-29829754f5cd",
   "metadata": {
    "scrolled": true,
    "tags": []
   },
   "outputs": [],
   "source": [
    "##2019 \n",
    "df_temp_rain2019 = pd.DataFrame()\n",
    "button_dropdown_option(year_option_xpath_id,2,display_button_xpath)\n",
    "df_temp_rain2019 = button_dropdown_option_loop(month_option_xpath_id, 12, display_button_xpath, table_xpath, df_temp_rain2019)\n",
    "df_temp_rain2019['Year'] = 2019"
   ]
  },
  {
   "cell_type": "code",
   "execution_count": null,
   "id": "ad52b55f-2f4a-4835-b368-b18e7fb87cc0",
   "metadata": {},
   "outputs": [],
   "source": [
    "df_temp_rain2019.head()\n"
   ]
  },
  {
   "cell_type": "code",
   "execution_count": null,
   "id": "563f421d-b64e-4775-83ca-66ddf1133865",
   "metadata": {},
   "outputs": [],
   "source": [
    "# drop station as it is not relevant\n",
    "df_temp_rain2019.isnull().sum()"
   ]
  },
  {
   "cell_type": "code",
   "execution_count": null,
   "id": "ebe20ffb-e005-4c4f-bf25-a3955c94ddb4",
   "metadata": {},
   "outputs": [],
   "source": [
    "df_temp_rain2019.info()"
   ]
  },
  {
   "cell_type": "code",
   "execution_count": null,
   "id": "39ba1911-37d1-450a-8a9d-f49e5a85fb5b",
   "metadata": {},
   "outputs": [],
   "source": [
    "df_temp_rain2019 = df_temp_rain2019.replace('-', pd.np.nan)\n"
   ]
  },
  {
   "cell_type": "code",
   "execution_count": null,
   "id": "409b0a8c-1bbd-4c54-ac5e-a73ebb44182c",
   "metadata": {},
   "outputs": [],
   "source": [
    "# Convert Mean Wind Speed to float\n",
    "df_temp_rain2019['Mean Wind Speed (km/h)'] = df_temp_rain2019['Mean Wind Speed (km/h)'].astype(float)"
   ]
  },
  {
   "cell_type": "code",
   "execution_count": null,
   "id": "ce536f35-7bd9-4340-8754-3b3dc35a88da",
   "metadata": {},
   "outputs": [],
   "source": [
    "# impute median values due to values being right-skewed\n",
    "df_temp_rain2019['Mean Wind Speed (km/h)'].fillna(df_temp_rain2019['Mean Wind Speed (km/h)'].median(), inplace=True)"
   ]
  },
  {
   "cell_type": "code",
   "execution_count": null,
   "id": "48bd3577-db0f-4f74-a3b1-90ad824b83a0",
   "metadata": {},
   "outputs": [],
   "source": [
    "df_temp_rain2019['Date'].info()"
   ]
  },
  {
   "cell_type": "code",
   "execution_count": null,
   "id": "dedc9bc5-45a0-4d40-a37a-a835ea1a837f",
   "metadata": {},
   "outputs": [],
   "source": [
    "# Convert the date column into a datetime column\n",
    "df_temp_rain2019['date'] = pd.to_datetime(df_temp_rain2019['Date'] + ' ' + df_temp_rain2019['Year'].astype(str), format='%d %b %Y')"
   ]
  },
  {
   "cell_type": "code",
   "execution_count": null,
   "id": "05baa908-8216-46dc-8f8a-bc07d3808fd2",
   "metadata": {},
   "outputs": [],
   "source": [
    "df_temp_rain2019.head(10)"
   ]
  },
  {
   "cell_type": "code",
   "execution_count": null,
   "id": "47ad5b64-f265-4c4b-bff1-13b3a435446b",
   "metadata": {},
   "outputs": [],
   "source": [
    "# convert the date column to datetime\n",
    "df_temp_rain2019['date'] = pd.to_datetime(df_temp_rain2019['date'])\n",
    "\n",
    "# sort the dataframe by date in descending order\n",
    "df_temp_rain2019 = df_temp_rain2019.sort_values('date', ascending=True)\n",
    "\n",
    "# reset the index to start at 0\n",
    "df_temp_rain2019 = df_temp_rain2019.reset_index(drop=True)"
   ]
  },
  {
   "cell_type": "code",
   "execution_count": null,
   "id": "ee024979-54a2-40d1-83ea-77b20e9fda20",
   "metadata": {},
   "outputs": [],
   "source": [
    "df_temp_rain2019.head()"
   ]
  },
  {
   "cell_type": "code",
   "execution_count": null,
   "id": "c11ea342-ff46-4e99-ae4e-be6723792260",
   "metadata": {},
   "outputs": [],
   "source": [
    "df_temp_rain2019.drop(columns=['Year','Date'], inplace=True)"
   ]
  },
  {
   "cell_type": "code",
   "execution_count": null,
   "id": "0d9adcdc-e2ae-434d-9451-c1062c607806",
   "metadata": {},
   "outputs": [],
   "source": [
    "df_temp_rain2019.head()"
   ]
  },
  {
   "cell_type": "code",
   "execution_count": null,
   "id": "ac7058e8-788c-4f5f-bb07-9b87eba5ba07",
   "metadata": {},
   "outputs": [],
   "source": [
    "# Convert the 'date' column to a datetime format\n",
    "df_temp_rain2019['date'] = pd.to_datetime(df_temp_rain2019['date'])\n",
    "\n",
    "# Set the 'date' column as the index of the DataFrame\n",
    "df_temp_rain2019 = df_temp_rain2019.set_index('date')\n",
    "\n",
    "# Resample the DataFrame to a weekly frequency, calculating the mean of the seven daily readings for each week\n",
    "weekly_df2019 = df_temp_rain2019.resample('W-MON', origin='start').mean().round(2)\n",
    "\n",
    "# Reset the index of the resulting DataFrame to make the 'date' column a regular column again\n",
    "weekly_df2019 = weekly_df2019.reset_index()\n"
   ]
  },
  {
   "cell_type": "code",
   "execution_count": null,
   "id": "324efe3e-e108-4d32-b281-f381ee32c89d",
   "metadata": {},
   "outputs": [],
   "source": [
    "weekly_df2019.head()"
   ]
  },
  {
   "cell_type": "markdown",
   "id": "9f59a322-4e77-4b45-93b9-96bcf0ba536c",
   "metadata": {},
   "source": [
    "## Exporting the Weather Climate Data 2019"
   ]
  },
  {
   "cell_type": "code",
   "execution_count": null,
   "id": "2c29bc50-6e93-44d2-8aeb-8d216becee26",
   "metadata": {},
   "outputs": [],
   "source": [
    "# Creating temp_rain.csv\n",
    "weekly_df2019.to_csv('../../assets/weekly_rain2019.csv')"
   ]
  },
  {
   "cell_type": "code",
   "execution_count": null,
   "id": "f921ca02-95ae-48c8-a2cf-d14313a6da42",
   "metadata": {},
   "outputs": [],
   "source": []
  }
 ],
 "metadata": {
  "kernelspec": {
   "display_name": "Python [conda env:dsi-sg]",
   "language": "python",
   "name": "conda-env-dsi-sg-py"
  },
  "language_info": {
   "codemirror_mode": {
    "name": "ipython",
    "version": 3
   },
   "file_extension": ".py",
   "mimetype": "text/x-python",
   "name": "python",
   "nbconvert_exporter": "python",
   "pygments_lexer": "ipython3",
   "version": "3.9.13"
  }
 },
 "nbformat": 4,
 "nbformat_minor": 5
}
