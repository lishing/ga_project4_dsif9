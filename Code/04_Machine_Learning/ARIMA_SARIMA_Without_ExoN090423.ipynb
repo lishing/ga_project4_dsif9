{
 "cells": [
  {
   "cell_type": "code",
   "execution_count": 12,
   "id": "3f9a4543-8525-4acd-9b37-2257df2975cb",
   "metadata": {},
   "outputs": [],
   "source": [
    "# import libraries\n",
    "import pandas as pd\n",
    "import numpy as np\n",
    "import matplotlib.pyplot as plt\n",
    "import statsmodels.graphics.tsaplots as sgt\n",
    "from statsmodels.tsa.stattools import adfuller\n",
    "from statsmodels.tsa.arima.model import ARIMA\n",
    "from statsmodels.graphics.tsaplots import plot_acf, plot_pacf\n",
    "\n",
    "from scipy.stats.distributions import chi2 \n",
    "\n",
    "from math import sqrt\n",
    "import seaborn as sns\n",
    "sns.set()"
   ]
  },
  {
   "cell_type": "code",
   "execution_count": 13,
   "id": "1488f266-b460-4bae-8cd1-99fb8d083c8b",
   "metadata": {},
   "outputs": [],
   "source": [
    "# load data\n",
    "dengue_weather = pd.read_csv('../../assets/cleaned_comb_changi_weather.csv', parse_dates=[0], index_col='date')"
   ]
  },
  {
   "cell_type": "code",
   "execution_count": 14,
   "id": "1aa7f1cf-80cc-4289-a5a2-210a5ec687a9",
   "metadata": {},
   "outputs": [
    {
     "data": {
      "text/html": [
       "<div>\n",
       "<style scoped>\n",
       "    .dataframe tbody tr th:only-of-type {\n",
       "        vertical-align: middle;\n",
       "    }\n",
       "\n",
       "    .dataframe tbody tr th {\n",
       "        vertical-align: top;\n",
       "    }\n",
       "\n",
       "    .dataframe thead th {\n",
       "        text-align: right;\n",
       "    }\n",
       "</style>\n",
       "<table border=\"1\" class=\"dataframe\">\n",
       "  <thead>\n",
       "    <tr style=\"text-align: right;\">\n",
       "      <th></th>\n",
       "      <th>type_dengue</th>\n",
       "      <th>year</th>\n",
       "      <th>month</th>\n",
       "      <th>number</th>\n",
       "      <th>Year</th>\n",
       "      <th>Month</th>\n",
       "      <th>Day</th>\n",
       "      <th>Daily Rainfall Total (mm)</th>\n",
       "      <th>Highest 30 Min Rainfall (mm)</th>\n",
       "      <th>Highest 60 Min Rainfall (mm)</th>\n",
       "      <th>Highest 120 Min Rainfall (mm)</th>\n",
       "      <th>Mean Temperature (°C)</th>\n",
       "      <th>Maximum Temperature (°C)</th>\n",
       "      <th>Minimum Temperature (°C)</th>\n",
       "      <th>Mean Wind Speed (km/h)</th>\n",
       "      <th>Max Wind Speed (km/h)</th>\n",
       "      <th>week</th>\n",
       "    </tr>\n",
       "    <tr>\n",
       "      <th>date</th>\n",
       "      <th></th>\n",
       "      <th></th>\n",
       "      <th></th>\n",
       "      <th></th>\n",
       "      <th></th>\n",
       "      <th></th>\n",
       "      <th></th>\n",
       "      <th></th>\n",
       "      <th></th>\n",
       "      <th></th>\n",
       "      <th></th>\n",
       "      <th></th>\n",
       "      <th></th>\n",
       "      <th></th>\n",
       "      <th></th>\n",
       "      <th></th>\n",
       "      <th></th>\n",
       "    </tr>\n",
       "  </thead>\n",
       "  <tbody>\n",
       "    <tr>\n",
       "      <th>2014-01-06</th>\n",
       "      <td>Dengue</td>\n",
       "      <td>2014</td>\n",
       "      <td>1</td>\n",
       "      <td>436.0</td>\n",
       "      <td>2014</td>\n",
       "      <td>1</td>\n",
       "      <td>6</td>\n",
       "      <td>31.2</td>\n",
       "      <td>10.0</td>\n",
       "      <td>10.8</td>\n",
       "      <td>11.6</td>\n",
       "      <td>25.3</td>\n",
       "      <td>27.1</td>\n",
       "      <td>23.9</td>\n",
       "      <td>6.1</td>\n",
       "      <td>25.6</td>\n",
       "      <td>2</td>\n",
       "    </tr>\n",
       "    <tr>\n",
       "      <th>2014-01-06</th>\n",
       "      <td>DHF</td>\n",
       "      <td>2014</td>\n",
       "      <td>1</td>\n",
       "      <td>1.0</td>\n",
       "      <td>2014</td>\n",
       "      <td>1</td>\n",
       "      <td>6</td>\n",
       "      <td>31.2</td>\n",
       "      <td>10.0</td>\n",
       "      <td>10.8</td>\n",
       "      <td>11.6</td>\n",
       "      <td>25.3</td>\n",
       "      <td>27.1</td>\n",
       "      <td>23.9</td>\n",
       "      <td>6.1</td>\n",
       "      <td>25.6</td>\n",
       "      <td>2</td>\n",
       "    </tr>\n",
       "    <tr>\n",
       "      <th>2014-01-13</th>\n",
       "      <td>Dengue</td>\n",
       "      <td>2014</td>\n",
       "      <td>1</td>\n",
       "      <td>479.0</td>\n",
       "      <td>2014</td>\n",
       "      <td>1</td>\n",
       "      <td>13</td>\n",
       "      <td>0.0</td>\n",
       "      <td>0.0</td>\n",
       "      <td>0.0</td>\n",
       "      <td>0.0</td>\n",
       "      <td>26.9</td>\n",
       "      <td>30.3</td>\n",
       "      <td>25.4</td>\n",
       "      <td>14.6</td>\n",
       "      <td>40.0</td>\n",
       "      <td>3</td>\n",
       "    </tr>\n",
       "    <tr>\n",
       "      <th>2014-01-13</th>\n",
       "      <td>DHF</td>\n",
       "      <td>2014</td>\n",
       "      <td>1</td>\n",
       "      <td>0.0</td>\n",
       "      <td>2014</td>\n",
       "      <td>1</td>\n",
       "      <td>13</td>\n",
       "      <td>0.0</td>\n",
       "      <td>0.0</td>\n",
       "      <td>0.0</td>\n",
       "      <td>0.0</td>\n",
       "      <td>26.9</td>\n",
       "      <td>30.3</td>\n",
       "      <td>25.4</td>\n",
       "      <td>14.6</td>\n",
       "      <td>40.0</td>\n",
       "      <td>3</td>\n",
       "    </tr>\n",
       "    <tr>\n",
       "      <th>2014-01-20</th>\n",
       "      <td>Dengue</td>\n",
       "      <td>2014</td>\n",
       "      <td>1</td>\n",
       "      <td>401.0</td>\n",
       "      <td>2014</td>\n",
       "      <td>1</td>\n",
       "      <td>20</td>\n",
       "      <td>0.0</td>\n",
       "      <td>0.0</td>\n",
       "      <td>0.0</td>\n",
       "      <td>0.0</td>\n",
       "      <td>25.7</td>\n",
       "      <td>29.1</td>\n",
       "      <td>23.6</td>\n",
       "      <td>11.7</td>\n",
       "      <td>38.2</td>\n",
       "      <td>4</td>\n",
       "    </tr>\n",
       "  </tbody>\n",
       "</table>\n",
       "</div>"
      ],
      "text/plain": [
       "           type_dengue  year  month  number  Year  Month  Day  \\\n",
       "date                                                            \n",
       "2014-01-06      Dengue  2014      1   436.0  2014      1    6   \n",
       "2014-01-06         DHF  2014      1     1.0  2014      1    6   \n",
       "2014-01-13      Dengue  2014      1   479.0  2014      1   13   \n",
       "2014-01-13         DHF  2014      1     0.0  2014      1   13   \n",
       "2014-01-20      Dengue  2014      1   401.0  2014      1   20   \n",
       "\n",
       "            Daily Rainfall Total (mm)  Highest 30 Min Rainfall (mm)  \\\n",
       "date                                                                  \n",
       "2014-01-06                       31.2                          10.0   \n",
       "2014-01-06                       31.2                          10.0   \n",
       "2014-01-13                        0.0                           0.0   \n",
       "2014-01-13                        0.0                           0.0   \n",
       "2014-01-20                        0.0                           0.0   \n",
       "\n",
       "            Highest 60 Min Rainfall (mm)  Highest 120 Min Rainfall (mm)  \\\n",
       "date                                                                      \n",
       "2014-01-06                          10.8                           11.6   \n",
       "2014-01-06                          10.8                           11.6   \n",
       "2014-01-13                           0.0                            0.0   \n",
       "2014-01-13                           0.0                            0.0   \n",
       "2014-01-20                           0.0                            0.0   \n",
       "\n",
       "            Mean Temperature (°C)  Maximum Temperature (°C)  \\\n",
       "date                                                          \n",
       "2014-01-06                   25.3                      27.1   \n",
       "2014-01-06                   25.3                      27.1   \n",
       "2014-01-13                   26.9                      30.3   \n",
       "2014-01-13                   26.9                      30.3   \n",
       "2014-01-20                   25.7                      29.1   \n",
       "\n",
       "            Minimum Temperature (°C)  Mean Wind Speed (km/h)  \\\n",
       "date                                                           \n",
       "2014-01-06                      23.9                     6.1   \n",
       "2014-01-06                      23.9                     6.1   \n",
       "2014-01-13                      25.4                    14.6   \n",
       "2014-01-13                      25.4                    14.6   \n",
       "2014-01-20                      23.6                    11.7   \n",
       "\n",
       "            Max Wind Speed (km/h)  week  \n",
       "date                                     \n",
       "2014-01-06                   25.6     2  \n",
       "2014-01-06                   25.6     2  \n",
       "2014-01-13                   40.0     3  \n",
       "2014-01-13                   40.0     3  \n",
       "2014-01-20                   38.2     4  "
      ]
     },
     "execution_count": 14,
     "metadata": {},
     "output_type": "execute_result"
    }
   ],
   "source": [
    "# preview\n",
    "dengue_weather.head()"
   ]
  },
  {
   "cell_type": "code",
   "execution_count": 15,
   "id": "6f919b91-2755-4d27-82ce-eec8806daad5",
   "metadata": {},
   "outputs": [],
   "source": [
    "# filter dengue cases only\n",
    "dengue_only=dengue_weather.loc[dengue_weather['type_dengue']=='Dengue'].drop(columns=['type_dengue'])"
   ]
  },
  {
   "cell_type": "code",
   "execution_count": 16,
   "id": "51a788e8-2a0f-4990-81c4-f51c47fc43b4",
   "metadata": {},
   "outputs": [],
   "source": [
    "# keep number 'number' only\n",
    "dengue_only = dengue_only[['number']]"
   ]
  },
  {
   "cell_type": "code",
   "execution_count": 18,
   "id": "45b0f340-faa6-48e3-bf96-e6239b951d23",
   "metadata": {},
   "outputs": [],
   "source": [
    "dengue_only.index = pd.to_datetime(dengue_only.index)\n",
    "dengue_only = dengue_only.resample('W').sum()"
   ]
  },
  {
   "cell_type": "code",
   "execution_count": 19,
   "id": "97af02eb-77a3-4184-bde4-aee44661915b",
   "metadata": {},
   "outputs": [
    {
     "name": "stdout",
     "output_type": "stream",
     "text": [
      "ADF Statistic: -2.653206\n",
      "p-value: 0.082492\n",
      "Critical Values:\n",
      "\t1%: -3.456\n",
      "\t5%: -2.873\n",
      "\t10%: -2.573\n"
     ]
    }
   ],
   "source": [
    "# ADF to check stationary\n",
    "result = adfuller(dengue_only['number'])\n",
    "print('ADF Statistic: %f' % result[0])\n",
    "print('p-value: %f' % result[1])\n",
    "print('Critical Values:')\n",
    "for key, value in result[4].items():\n",
    "    print('\\t%s: %.3f' % (key, value))"
   ]
  },
  {
   "cell_type": "code",
   "execution_count": 20,
   "id": "198ffe66-c3f4-4057-b040-11a03a92778e",
   "metadata": {},
   "outputs": [
    {
     "name": "stdout",
     "output_type": "stream",
     "text": [
      "The time series is not stationary.\n"
     ]
    }
   ],
   "source": [
    "# determine stationary\n",
    "if result[1] > 0.05:\n",
    "    print('The time series is not stationary.')\n",
    "else:\n",
    "    print('The time series is stationary.')"
   ]
  },
  {
   "cell_type": "code",
   "execution_count": 21,
   "id": "f14d3695-4094-476c-9de1-13b5544f57c1",
   "metadata": {},
   "outputs": [],
   "source": [
    "# difference if not stationary\n",
    "if result[1] > 0.05:\n",
    "    dengue_only_diff = dengue_only.diff().dropna()\n",
    "else:\n",
    "    dengue_only_diff = dengue_only.copy()"
   ]
  },
  {
   "cell_type": "markdown",
   "id": "8bffeb22-27b0-45be-9281-eff28e0fe1b8",
   "metadata": {},
   "source": [
    "# ARIMA"
   ]
  },
  {
   "cell_type": "code",
   "execution_count": 22,
   "id": "c3897619-e028-4855-833b-ec8f7e73e4d6",
   "metadata": {},
   "outputs": [],
   "source": [
    "# fit ARIMA\n",
    "model = ARIMA(dengue_only_diff, order=(1, 1, 1))\n",
    "model_fit = model.fit()"
   ]
  },
  {
   "cell_type": "code",
   "execution_count": 23,
   "id": "a70e73f6-5465-4db6-8eed-d9a905c535aa",
   "metadata": {},
   "outputs": [],
   "source": [
    "# generate forecasts\n",
    "forecast = model_fit.predict(start=len(dengue_only_diff), end=len(dengue_only_diff) + 12)"
   ]
  },
  {
   "cell_type": "code",
   "execution_count": 24,
   "id": "dafa2803-5959-4e99-96d5-bd1ace071133",
   "metadata": {},
   "outputs": [
    {
     "data": {
      "image/png": "[encoded data removed]",
      "text/plain": [
       "<Figure size 720x360 with 1 Axes>"
      ]
     },
     "metadata": {},
     "output_type": "display_data"
    }
   ],
   "source": [
    "# plot forecasts\n",
    "plt.figure(figsize=(10, 5))\n",
    "plt.plot(dengue_only.index, dengue_only['number'])\n",
    "plt.plot(forecast.index, forecast)\n",
    "plt.legend(['Actual', 'Forecast'])\n",
    "plt.show()"
   ]
  },
  {
   "cell_type": "code",
   "execution_count": 25,
   "id": "a684f368-9d7f-4178-a0a4-52f0a17e979b",
   "metadata": {},
   "outputs": [
    {
     "name": "stdout",
     "output_type": "stream",
     "text": [
      "                               SARIMAX Results                                \n",
      "==============================================================================\n",
      "Dep. Variable:                 number   No. Observations:                  259\n",
      "Model:                 ARIMA(1, 1, 1)   Log Likelihood               -1362.059\n",
      "Date:                Sun, 09 Apr 2023   AIC                           2730.118\n",
      "Time:                        09:21:17   BIC                           2740.777\n",
      "Sample:                    01-19-2014   HQIC                          2734.404\n",
      "                         - 12-30-2018                                         \n",
      "Covariance Type:                  opg                                         \n",
      "==============================================================================\n",
      "                 coef    std err          z      P>|z|      [0.025      0.975]\n",
      "------------------------------------------------------------------------------\n",
      "ar.L1         -0.0886      0.033     -2.699      0.007      -0.153      -0.024\n",
      "ma.L1         -1.0000      7.393     -0.135      0.892     -15.491      13.491\n",
      "sigma2      2205.1515   1.63e+04      0.135      0.892   -2.97e+04    3.41e+04\n",
      "===================================================================================\n",
      "Ljung-Box (L1) (Q):                   0.00   Jarque-Bera (JB):               269.00\n",
      "Prob(Q):                              0.95   Prob(JB):                         0.00\n",
      "Heteroskedasticity (H):               0.04   Skew:                             0.40\n",
      "Prob(H) (two-sided):                  0.00   Kurtosis:                         7.94\n",
      "===================================================================================\n",
      "\n",
      "Warnings:\n",
      "[1] Covariance matrix calculated using the outer product of gradients (complex-step).\n"
     ]
    }
   ],
   "source": [
    "# model summary for ARIMA\n",
    "print(model_fit.summary())"
   ]
  },
  {
   "cell_type": "markdown",
   "id": "1dbeb6f7-1245-4d99-b4b5-588425675681",
   "metadata": {},
   "source": [
    "# SARIMA Without Exo"
   ]
  },
  {
   "cell_type": "code",
   "execution_count": 26,
   "id": "14c311c3-c854-4825-89d2-e3c17a6e817f",
   "metadata": {},
   "outputs": [],
   "source": [
    "# fit SARIMA model without exogenous variables\n",
    "sarima_model = ARIMA(dengue_only_diff, order=(1,1,1), seasonal_order=(1,0,1,52))\n",
    "sarima_fit = sarima_model.fit()"
   ]
  },
  {
   "cell_type": "code",
   "execution_count": 27,
   "id": "bd09cea4-6970-4ba7-97ea-5db88a61b517",
   "metadata": {},
   "outputs": [],
   "source": [
    "# generate forecasts\n",
    "forecast = sarima_fit.predict(start=len(dengue_only_diff), end=len(dengue_only_diff) + 12)"
   ]
  },
  {
   "cell_type": "code",
   "execution_count": 28,
   "id": "b56a340b-1b7e-45dc-9078-a08048872fd2",
   "metadata": {},
   "outputs": [
    {
     "data": {
      "image/png": "[encoded data removed]",
      "text/plain": [
       "<Figure size 720x360 with 1 Axes>"
      ]
     },
     "metadata": {},
     "output_type": "display_data"
    }
   ],
   "source": [
    "# plot forecasts\n",
    "plt.figure(figsize=(10, 5))\n",
    "plt.plot(dengue_only.index, dengue_only['number'])\n",
    "plt.plot(forecast.index, forecast)\n",
    "plt.legend(['Actual', 'Forecast'])\n",
    "plt.show()"
   ]
  },
  {
   "cell_type": "code",
   "execution_count": 29,
   "id": "4fe530ea-ab36-41b6-874d-9310108e4e0b",
   "metadata": {},
   "outputs": [
    {
     "name": "stdout",
     "output_type": "stream",
     "text": [
      "                                    SARIMAX Results                                     \n",
      "========================================================================================\n",
      "Dep. Variable:                           number   No. Observations:                  259\n",
      "Model:             ARIMA(1, 1, 1)x(1, 0, 1, 52)   Log Likelihood               -1361.460\n",
      "Date:                          Sun, 09 Apr 2023   AIC                           2732.921\n",
      "Time:                                  09:21:21   BIC                           2750.685\n",
      "Sample:                              01-19-2014   HQIC                          2740.064\n",
      "                                   - 12-30-2018                                         \n",
      "Covariance Type:                            opg                                         \n",
      "==============================================================================\n",
      "                 coef    std err          z      P>|z|      [0.025      0.975]\n",
      "------------------------------------------------------------------------------\n",
      "ar.L1         -0.0760      0.034     -2.206      0.027      -0.143      -0.008\n",
      "ma.L1         -0.9979      0.140     -7.124      0.000      -1.272      -0.723\n",
      "ar.S.L52      -0.5945      1.166     -0.510      0.610      -2.881       1.692\n",
      "ma.S.L52       0.5253      1.200      0.438      0.662      -1.827       2.878\n",
      "sigma2      2190.7128    308.903      7.092      0.000    1585.274    2796.151\n",
      "===================================================================================\n",
      "Ljung-Box (L1) (Q):                   0.01   Jarque-Bera (JB):               255.47\n",
      "Prob(Q):                              0.93   Prob(JB):                         0.00\n",
      "Heteroskedasticity (H):               0.05   Skew:                             0.40\n",
      "Prob(H) (two-sided):                  0.00   Kurtosis:                         7.81\n",
      "===================================================================================\n",
      "\n",
      "Warnings:\n",
      "[1] Covariance matrix calculated using the outer product of gradients (complex-step).\n"
     ]
    }
   ],
   "source": [
    "# model summary for SARIMA without Exo\n",
    "print(sarima_fit.summary())"
   ]
  }
 ],
 "metadata": {
  "kernelspec": {
   "display_name": "Python 3 (ipykernel)",
   "language": "python",
   "name": "python3"
  },
  "language_info": {
   "codemirror_mode": {
    "name": "ipython",
    "version": 3
   },
   "file_extension": ".py",
   "mimetype": "text/x-python",
   "name": "python",
   "nbconvert_exporter": "python",
   "pygments_lexer": "ipython3",
   "version": "3.9.12"
  }
 },
 "nbformat": 4,
 "nbformat_minor": 5
}
