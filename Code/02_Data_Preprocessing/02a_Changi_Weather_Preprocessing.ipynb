{
 "cells": [
  {
   "cell_type": "code",
   "execution_count": 1,
   "id": "e90a641f-267c-4f85-af9e-776f53e2b828",
   "metadata": {},
   "outputs": [],
   "source": [
    "import pandas as pd\n",
    "import numpy as np\n",
    "import matplotlib.pyplot as plt\n",
    "import seaborn as sns\n",
    "import scipy.stats as stats\n",
    "\n",
    "%matplotlib inline"
   ]
  },
  {
   "cell_type": "code",
   "execution_count": 2,
   "id": "c6473eff-6bd2-41fd-bf8f-2ab65aea54ee",
   "metadata": {},
   "outputs": [
    {
     "data": {
      "text/plain": [
       "'/Users/nicholas/PycharmProjects/ga_project4_dsif9/code/02_Data_Preprocessing'"
      ]
     },
     "execution_count": 2,
     "metadata": {},
     "output_type": "execute_result"
    }
   ],
   "source": [
    "pwd"
   ]
  },
  {
   "cell_type": "code",
   "execution_count": 6,
   "id": "64736681-dd01-48f4-9612-7c87d1fe74d0",
   "metadata": {},
   "outputs": [],
   "source": [
    "# read data into notebook\n",
    "changi_weather = pd.read_csv('../../assets/complete_changi_weather.csv')"
   ]
  },
  {
   "cell_type": "code",
   "execution_count": 7,
   "id": "7a5ecb6d-7270-440d-ba8e-3bd535b7ae81",
   "metadata": {},
   "outputs": [
    {
     "data": {
      "text/html": [
       "<div>\n",
       "<style scoped>\n",
       "    .dataframe tbody tr th:only-of-type {\n",
       "        vertical-align: middle;\n",
       "    }\n",
       "\n",
       "    .dataframe tbody tr th {\n",
       "        vertical-align: top;\n",
       "    }\n",
       "\n",
       "    .dataframe thead th {\n",
       "        text-align: right;\n",
       "    }\n",
       "</style>\n",
       "<table border=\"1\" class=\"dataframe\">\n",
       "  <thead>\n",
       "    <tr style=\"text-align: right;\">\n",
       "      <th></th>\n",
       "      <th>Station</th>\n",
       "      <th>Year</th>\n",
       "      <th>Month</th>\n",
       "      <th>Day</th>\n",
       "      <th>Daily Rainfall Total (mm)</th>\n",
       "      <th>Highest 30 Min Rainfall (mm)</th>\n",
       "      <th>Highest 60 Min Rainfall (mm)</th>\n",
       "      <th>Highest 120 Min Rainfall (mm)</th>\n",
       "      <th>Mean Temperature (°C)</th>\n",
       "      <th>Maximum Temperature (°C)</th>\n",
       "      <th>Minimum Temperature (°C)</th>\n",
       "      <th>Mean Wind Speed (km/h)</th>\n",
       "      <th>Max Wind Speed (km/h)</th>\n",
       "    </tr>\n",
       "  </thead>\n",
       "  <tbody>\n",
       "    <tr>\n",
       "      <th>0</th>\n",
       "      <td>Changi</td>\n",
       "      <td>2014</td>\n",
       "      <td>1</td>\n",
       "      <td>1</td>\n",
       "      <td>0.0</td>\n",
       "      <td>0</td>\n",
       "      <td>0</td>\n",
       "      <td>0</td>\n",
       "      <td>26.7</td>\n",
       "      <td>29.0</td>\n",
       "      <td>24.9</td>\n",
       "      <td>10</td>\n",
       "      <td>29.9</td>\n",
       "    </tr>\n",
       "    <tr>\n",
       "      <th>1</th>\n",
       "      <td>Changi</td>\n",
       "      <td>2014</td>\n",
       "      <td>1</td>\n",
       "      <td>2</td>\n",
       "      <td>0.0</td>\n",
       "      <td>0</td>\n",
       "      <td>0</td>\n",
       "      <td>0</td>\n",
       "      <td>27.4</td>\n",
       "      <td>30.9</td>\n",
       "      <td>25.0</td>\n",
       "      <td>11.9</td>\n",
       "      <td>36</td>\n",
       "    </tr>\n",
       "    <tr>\n",
       "      <th>2</th>\n",
       "      <td>Changi</td>\n",
       "      <td>2014</td>\n",
       "      <td>1</td>\n",
       "      <td>3</td>\n",
       "      <td>0.0</td>\n",
       "      <td>0</td>\n",
       "      <td>0</td>\n",
       "      <td>0</td>\n",
       "      <td>27.1</td>\n",
       "      <td>30.4</td>\n",
       "      <td>24.9</td>\n",
       "      <td>9.7</td>\n",
       "      <td>33.1</td>\n",
       "    </tr>\n",
       "    <tr>\n",
       "      <th>3</th>\n",
       "      <td>Changi</td>\n",
       "      <td>2014</td>\n",
       "      <td>1</td>\n",
       "      <td>4</td>\n",
       "      <td>0.0</td>\n",
       "      <td>0</td>\n",
       "      <td>0</td>\n",
       "      <td>0</td>\n",
       "      <td>27.1</td>\n",
       "      <td>31.1</td>\n",
       "      <td>24.9</td>\n",
       "      <td>6.4</td>\n",
       "      <td>25.9</td>\n",
       "    </tr>\n",
       "    <tr>\n",
       "      <th>4</th>\n",
       "      <td>Changi</td>\n",
       "      <td>2014</td>\n",
       "      <td>1</td>\n",
       "      <td>5</td>\n",
       "      <td>18.4</td>\n",
       "      <td>8.6</td>\n",
       "      <td>10.8</td>\n",
       "      <td>15.4</td>\n",
       "      <td>24.8</td>\n",
       "      <td>26.4</td>\n",
       "      <td>23.3</td>\n",
       "      <td>6.8</td>\n",
       "      <td>25.6</td>\n",
       "    </tr>\n",
       "  </tbody>\n",
       "</table>\n",
       "</div>"
      ],
      "text/plain": [
       "  Station  Year  Month  Day  Daily Rainfall Total (mm)  \\\n",
       "0  Changi  2014      1    1                        0.0   \n",
       "1  Changi  2014      1    2                        0.0   \n",
       "2  Changi  2014      1    3                        0.0   \n",
       "3  Changi  2014      1    4                        0.0   \n",
       "4  Changi  2014      1    5                       18.4   \n",
       "\n",
       "  Highest 30 Min Rainfall (mm) Highest 60 Min Rainfall (mm)  \\\n",
       "0                            0                            0   \n",
       "1                            0                            0   \n",
       "2                            0                            0   \n",
       "3                            0                            0   \n",
       "4                          8.6                         10.8   \n",
       "\n",
       "  Highest 120 Min Rainfall (mm)  Mean Temperature (°C)  \\\n",
       "0                             0                   26.7   \n",
       "1                             0                   27.4   \n",
       "2                             0                   27.1   \n",
       "3                             0                   27.1   \n",
       "4                          15.4                   24.8   \n",
       "\n",
       "   Maximum Temperature (°C)  Minimum Temperature (°C) Mean Wind Speed (km/h)  \\\n",
       "0                      29.0                      24.9                     10   \n",
       "1                      30.9                      25.0                   11.9   \n",
       "2                      30.4                      24.9                    9.7   \n",
       "3                      31.1                      24.9                    6.4   \n",
       "4                      26.4                      23.3                    6.8   \n",
       "\n",
       "  Max Wind Speed (km/h)  \n",
       "0                  29.9  \n",
       "1                    36  \n",
       "2                  33.1  \n",
       "3                  25.9  \n",
       "4                  25.6  "
      ]
     },
     "execution_count": 7,
     "metadata": {},
     "output_type": "execute_result"
    }
   ],
   "source": [
    "# preview data\n",
    "changi_weather.head()"
   ]
  },
  {
   "cell_type": "code",
   "execution_count": 8,
   "id": "5500a971-08dd-4bad-bef0-f82170d8e791",
   "metadata": {},
   "outputs": [
    {
     "name": "stdout",
     "output_type": "stream",
     "text": [
      "<class 'pandas.core.frame.DataFrame'>\n",
      "RangeIndex: 1826 entries, 0 to 1825\n",
      "Data columns (total 13 columns):\n",
      " #   Column                         Non-Null Count  Dtype  \n",
      "---  ------                         --------------  -----  \n",
      " 0   Station                        1826 non-null   object \n",
      " 1   Year                           1826 non-null   int64  \n",
      " 2   Month                          1826 non-null   int64  \n",
      " 3   Day                            1826 non-null   int64  \n",
      " 4   Daily Rainfall Total (mm)      1826 non-null   float64\n",
      " 5   Highest 30 Min Rainfall (mm)   1826 non-null   object \n",
      " 6   Highest 60 Min Rainfall (mm)   1826 non-null   object \n",
      " 7   Highest 120 Min Rainfall (mm)  1826 non-null   object \n",
      " 8   Mean Temperature (°C)          1826 non-null   float64\n",
      " 9   Maximum Temperature (°C)       1826 non-null   float64\n",
      " 10  Minimum Temperature (°C)       1826 non-null   float64\n",
      " 11  Mean Wind Speed (km/h)         1823 non-null   object \n",
      " 12  Max Wind Speed (km/h)          1822 non-null   object \n",
      "dtypes: float64(4), int64(3), object(6)\n",
      "memory usage: 185.6+ KB\n"
     ]
    }
   ],
   "source": [
    "# preview datatypes\n",
    "changi_weather.info()"
   ]
  },
  {
   "cell_type": "code",
   "execution_count": 9,
   "id": "a3d98314-7e60-45ba-89f2-aa6f78d30449",
   "metadata": {},
   "outputs": [],
   "source": [
    "# drop station as it is not relevant\n",
    "changi_weather.drop(columns='Station', inplace=True)"
   ]
  },
  {
   "cell_type": "code",
   "execution_count": 10,
   "id": "f89ca973-1c7c-4d8c-a102-4a278b98857a",
   "metadata": {},
   "outputs": [
    {
     "data": {
      "text/plain": [
       "Year                             0\n",
       "Month                            0\n",
       "Day                              0\n",
       "Daily Rainfall Total (mm)        0\n",
       "Highest 30 Min Rainfall (mm)     0\n",
       "Highest 60 Min Rainfall (mm)     0\n",
       "Highest 120 Min Rainfall (mm)    0\n",
       "Mean Temperature (°C)            0\n",
       "Maximum Temperature (°C)         0\n",
       "Minimum Temperature (°C)         0\n",
       "Mean Wind Speed (km/h)           3\n",
       "Max Wind Speed (km/h)            4\n",
       "dtype: int64"
      ]
     },
     "execution_count": 10,
     "metadata": {},
     "output_type": "execute_result"
    }
   ],
   "source": [
    "changi_weather.isnull().sum()"
   ]
  },
  {
   "cell_type": "code",
   "execution_count": 11,
   "id": "35fc8797-523d-4dd7-bd3b-e0bcc30bb4e1",
   "metadata": {},
   "outputs": [
    {
     "name": "stderr",
     "output_type": "stream",
     "text": [
      "/var/folders/90/274n3kt55bl4fjg8t134196r0000gn/T/ipykernel_3882/1035822507.py:1: FutureWarning: The pandas.np module is deprecated and will be removed from pandas in a future version. Import numpy directly instead.\n",
      "  changi_weather = changi_weather.replace(' ', pd.np.nan)\n"
     ]
    }
   ],
   "source": [
    "changi_weather = changi_weather.replace(' ', pd.np.nan)"
   ]
  },
  {
   "cell_type": "code",
   "execution_count": 12,
   "id": "e92fffcd-267f-4ef0-9e6f-d1fd48bf6545",
   "metadata": {},
   "outputs": [
    {
     "data": {
      "text/plain": [
       "Year                             0\n",
       "Month                            0\n",
       "Day                              0\n",
       "Daily Rainfall Total (mm)        0\n",
       "Highest 30 Min Rainfall (mm)     0\n",
       "Highest 60 Min Rainfall (mm)     0\n",
       "Highest 120 Min Rainfall (mm)    0\n",
       "Mean Temperature (°C)            0\n",
       "Maximum Temperature (°C)         0\n",
       "Minimum Temperature (°C)         0\n",
       "Mean Wind Speed (km/h)           3\n",
       "Max Wind Speed (km/h)            4\n",
       "dtype: int64"
      ]
     },
     "execution_count": 12,
     "metadata": {},
     "output_type": "execute_result"
    }
   ],
   "source": [
    "changi_weather.isnull().sum()"
   ]
  },
  {
   "cell_type": "code",
   "execution_count": 13,
   "id": "ea9b9ab9-2e75-40b0-9d36-b877ed697706",
   "metadata": {
    "scrolled": true,
    "tags": []
   },
   "outputs": [
    {
     "data": {
      "text/plain": [
       "['30.6',\n",
       " '32',\n",
       " '29.2',\n",
       " '33.8',\n",
       " '29.5',\n",
       " '35.3',\n",
       " '34.6',\n",
       " '29.9',\n",
       " '32.4',\n",
       " '28.4',\n",
       " '32.8',\n",
       " '31',\n",
       " '31.3',\n",
       " '30.2',\n",
       " '27',\n",
       " '31.7',\n",
       " '33.5',\n",
       " '34.2',\n",
       " '27.4',\n",
       " '27.7',\n",
       " '28.1',\n",
       " '25.6',\n",
       " '37.1',\n",
       " '26.6',\n",
       " '33.1',\n",
       " '34.9',\n",
       " '24.8',\n",
       " '37.8',\n",
       " '25.2',\n",
       " '36.7',\n",
       " '28.8',\n",
       " '35.6',\n",
       " '36',\n",
       " '36.4',\n",
       " '37.4',\n",
       " '39.6',\n",
       " '25.9',\n",
       " '38.2',\n",
       " '40.3',\n",
       " '26.3',\n",
       " '38.9',\n",
       " '24.5',\n",
       " '40',\n",
       " '24.1',\n",
       " '41.8',\n",
       " '39.2',\n",
       " '22',\n",
       " '38.5',\n",
       " '42.1',\n",
       " '43.2',\n",
       " '22.3',\n",
       " '41.4',\n",
       " '23.8',\n",
       " '22.7',\n",
       " '45.7',\n",
       " '42.5',\n",
       " '23.4',\n",
       " '45',\n",
       " '21.6',\n",
       " '42.8',\n",
       " '40.7',\n",
       " '44.6',\n",
       " '41',\n",
       " '23',\n",
       " '43.6',\n",
       " '44.3',\n",
       " '19.4',\n",
       " '45.4',\n",
       " '20.5',\n",
       " '46.8',\n",
       " '43.9',\n",
       " '18.7',\n",
       " '51.1',\n",
       " '47.2',\n",
       " '21.2',\n",
       " '46.1',\n",
       " '48.2',\n",
       " '19.8',\n",
       " '20.9',\n",
       " '50.8',\n",
       " '55.1',\n",
       " '20.2',\n",
       " '15.8',\n",
       " '52.9',\n",
       " '49',\n",
       " '49.7',\n",
       " '19.1',\n",
       " '46.4',\n",
       " '50.4',\n",
       " '59.4',\n",
       " '47.9',\n",
       " '50',\n",
       " '48.6',\n",
       " '51.8',\n",
       " '57.6',\n",
       " '61.6',\n",
       " '18.4',\n",
       " '17.6',\n",
       " '49.3',\n",
       " '\\x97',\n",
       " '54',\n",
       " '59.8',\n",
       " '65.2',\n",
       " '52.6',\n",
       " '15.1',\n",
       " '16.9',\n",
       " '70.6',\n",
       " '53.6',\n",
       " '64.8',\n",
       " '17.3',\n",
       " '58.7',\n",
       " '61.9',\n",
       " '47.5',\n",
       " '60.5',\n",
       " '51.5',\n",
       " '55.4']"
      ]
     },
     "execution_count": 13,
     "metadata": {},
     "output_type": "execute_result"
    }
   ],
   "source": [
    "list(changi_weather['Max Wind Speed (km/h)'].value_counts().index)"
   ]
  },
  {
   "cell_type": "code",
   "execution_count": 14,
   "id": "9a2282ec-630a-41b1-9b2b-5f2f1de332f5",
   "metadata": {},
   "outputs": [
    {
     "name": "stderr",
     "output_type": "stream",
     "text": [
      "/var/folders/90/274n3kt55bl4fjg8t134196r0000gn/T/ipykernel_3882/552029724.py:1: FutureWarning: The pandas.np module is deprecated and will be removed from pandas in a future version. Import numpy directly instead.\n",
      "  changi_weather = changi_weather.replace('\\x97', pd.np.nan)\n"
     ]
    }
   ],
   "source": [
    "changi_weather = changi_weather.replace('\\x97', pd.np.nan)"
   ]
  },
  {
   "cell_type": "code",
   "execution_count": 15,
   "id": "549361dd-a4c4-47f0-bf65-3ba4f11dfe7d",
   "metadata": {},
   "outputs": [],
   "source": [
    "# convert Mean Wind Speed (km/h) and Max Wind Speed (km/h) to float\n",
    "changi_weather['Highest 30 Min Rainfall (mm)'] = changi_weather['Highest 30 Min Rainfall (mm)'].astype(float)\n",
    "changi_weather['Highest 60 Min Rainfall (mm)'] = changi_weather['Highest 60 Min Rainfall (mm)'].astype(float)\n",
    "changi_weather['Highest 120 Min Rainfall (mm)'] = changi_weather['Highest 120 Min Rainfall (mm)'].astype(float)\n",
    "changi_weather['Mean Wind Speed (km/h)'] = changi_weather['Mean Wind Speed (km/h)'].astype(float)\n",
    "changi_weather['Max Wind Speed (km/h)'] = changi_weather['Max Wind Speed (km/h)'].astype(float)"
   ]
  },
  {
   "cell_type": "code",
   "execution_count": 16,
   "id": "f4c34257-4f13-414f-be98-75ad2f90137d",
   "metadata": {},
   "outputs": [
    {
     "name": "stdout",
     "output_type": "stream",
     "text": [
      "<class 'pandas.core.frame.DataFrame'>\n",
      "RangeIndex: 1826 entries, 0 to 1825\n",
      "Data columns (total 12 columns):\n",
      " #   Column                         Non-Null Count  Dtype  \n",
      "---  ------                         --------------  -----  \n",
      " 0   Year                           1826 non-null   int64  \n",
      " 1   Month                          1826 non-null   int64  \n",
      " 2   Day                            1826 non-null   int64  \n",
      " 3   Daily Rainfall Total (mm)      1826 non-null   float64\n",
      " 4   Highest 30 Min Rainfall (mm)   1824 non-null   float64\n",
      " 5   Highest 60 Min Rainfall (mm)   1824 non-null   float64\n",
      " 6   Highest 120 Min Rainfall (mm)  1824 non-null   float64\n",
      " 7   Mean Temperature (°C)          1826 non-null   float64\n",
      " 8   Maximum Temperature (°C)       1826 non-null   float64\n",
      " 9   Minimum Temperature (°C)       1826 non-null   float64\n",
      " 10  Mean Wind Speed (km/h)         1822 non-null   float64\n",
      " 11  Max Wind Speed (km/h)          1821 non-null   float64\n",
      "dtypes: float64(9), int64(3)\n",
      "memory usage: 171.3 KB\n"
     ]
    }
   ],
   "source": [
    "changi_weather.info()"
   ]
  },
  {
   "cell_type": "code",
   "execution_count": 17,
   "id": "77c0b203-b5b5-41b2-8728-29e57c028095",
   "metadata": {},
   "outputs": [
    {
     "data": {
      "text/plain": [
       "Year                             0\n",
       "Month                            0\n",
       "Day                              0\n",
       "Daily Rainfall Total (mm)        0\n",
       "Highest 30 Min Rainfall (mm)     2\n",
       "Highest 60 Min Rainfall (mm)     2\n",
       "Highest 120 Min Rainfall (mm)    2\n",
       "Mean Temperature (°C)            0\n",
       "Maximum Temperature (°C)         0\n",
       "Minimum Temperature (°C)         0\n",
       "Mean Wind Speed (km/h)           4\n",
       "Max Wind Speed (km/h)            5\n",
       "dtype: int64"
      ]
     },
     "execution_count": 17,
     "metadata": {},
     "output_type": "execute_result"
    }
   ],
   "source": [
    "changi_weather.isnull().sum()"
   ]
  },
  {
   "cell_type": "code",
   "execution_count": 18,
   "id": "b13026ed-e959-42c1-b88d-87e0b4192fb0",
   "metadata": {},
   "outputs": [
    {
     "data": {
      "text/html": [
       "<div>\n",
       "<style scoped>\n",
       "    .dataframe tbody tr th:only-of-type {\n",
       "        vertical-align: middle;\n",
       "    }\n",
       "\n",
       "    .dataframe tbody tr th {\n",
       "        vertical-align: top;\n",
       "    }\n",
       "\n",
       "    .dataframe thead th {\n",
       "        text-align: right;\n",
       "    }\n",
       "</style>\n",
       "<table border=\"1\" class=\"dataframe\">\n",
       "  <thead>\n",
       "    <tr style=\"text-align: right;\">\n",
       "      <th></th>\n",
       "      <th>Year</th>\n",
       "      <th>Month</th>\n",
       "      <th>Day</th>\n",
       "      <th>Daily Rainfall Total (mm)</th>\n",
       "      <th>Highest 30 Min Rainfall (mm)</th>\n",
       "      <th>Highest 60 Min Rainfall (mm)</th>\n",
       "      <th>Highest 120 Min Rainfall (mm)</th>\n",
       "      <th>Mean Temperature (°C)</th>\n",
       "      <th>Maximum Temperature (°C)</th>\n",
       "      <th>Minimum Temperature (°C)</th>\n",
       "      <th>Mean Wind Speed (km/h)</th>\n",
       "      <th>Max Wind Speed (km/h)</th>\n",
       "    </tr>\n",
       "  </thead>\n",
       "  <tbody>\n",
       "    <tr>\n",
       "      <th>0</th>\n",
       "      <td>2014</td>\n",
       "      <td>1</td>\n",
       "      <td>1</td>\n",
       "      <td>0.0</td>\n",
       "      <td>0.0</td>\n",
       "      <td>0.0</td>\n",
       "      <td>0.0</td>\n",
       "      <td>26.7</td>\n",
       "      <td>29.0</td>\n",
       "      <td>24.9</td>\n",
       "      <td>10.0</td>\n",
       "      <td>29.9</td>\n",
       "    </tr>\n",
       "    <tr>\n",
       "      <th>1</th>\n",
       "      <td>2014</td>\n",
       "      <td>1</td>\n",
       "      <td>2</td>\n",
       "      <td>0.0</td>\n",
       "      <td>0.0</td>\n",
       "      <td>0.0</td>\n",
       "      <td>0.0</td>\n",
       "      <td>27.4</td>\n",
       "      <td>30.9</td>\n",
       "      <td>25.0</td>\n",
       "      <td>11.9</td>\n",
       "      <td>36.0</td>\n",
       "    </tr>\n",
       "    <tr>\n",
       "      <th>2</th>\n",
       "      <td>2014</td>\n",
       "      <td>1</td>\n",
       "      <td>3</td>\n",
       "      <td>0.0</td>\n",
       "      <td>0.0</td>\n",
       "      <td>0.0</td>\n",
       "      <td>0.0</td>\n",
       "      <td>27.1</td>\n",
       "      <td>30.4</td>\n",
       "      <td>24.9</td>\n",
       "      <td>9.7</td>\n",
       "      <td>33.1</td>\n",
       "    </tr>\n",
       "    <tr>\n",
       "      <th>3</th>\n",
       "      <td>2014</td>\n",
       "      <td>1</td>\n",
       "      <td>4</td>\n",
       "      <td>0.0</td>\n",
       "      <td>0.0</td>\n",
       "      <td>0.0</td>\n",
       "      <td>0.0</td>\n",
       "      <td>27.1</td>\n",
       "      <td>31.1</td>\n",
       "      <td>24.9</td>\n",
       "      <td>6.4</td>\n",
       "      <td>25.9</td>\n",
       "    </tr>\n",
       "    <tr>\n",
       "      <th>4</th>\n",
       "      <td>2014</td>\n",
       "      <td>1</td>\n",
       "      <td>5</td>\n",
       "      <td>18.4</td>\n",
       "      <td>8.6</td>\n",
       "      <td>10.8</td>\n",
       "      <td>15.4</td>\n",
       "      <td>24.8</td>\n",
       "      <td>26.4</td>\n",
       "      <td>23.3</td>\n",
       "      <td>6.8</td>\n",
       "      <td>25.6</td>\n",
       "    </tr>\n",
       "    <tr>\n",
       "      <th>5</th>\n",
       "      <td>2014</td>\n",
       "      <td>1</td>\n",
       "      <td>6</td>\n",
       "      <td>31.2</td>\n",
       "      <td>10.0</td>\n",
       "      <td>10.8</td>\n",
       "      <td>11.6</td>\n",
       "      <td>25.3</td>\n",
       "      <td>27.1</td>\n",
       "      <td>23.9</td>\n",
       "      <td>6.1</td>\n",
       "      <td>25.6</td>\n",
       "    </tr>\n",
       "    <tr>\n",
       "      <th>6</th>\n",
       "      <td>2014</td>\n",
       "      <td>1</td>\n",
       "      <td>7</td>\n",
       "      <td>0.0</td>\n",
       "      <td>0.0</td>\n",
       "      <td>0.0</td>\n",
       "      <td>0.0</td>\n",
       "      <td>26.7</td>\n",
       "      <td>30.7</td>\n",
       "      <td>24.3</td>\n",
       "      <td>8.1</td>\n",
       "      <td>33.5</td>\n",
       "    </tr>\n",
       "    <tr>\n",
       "      <th>7</th>\n",
       "      <td>2014</td>\n",
       "      <td>1</td>\n",
       "      <td>8</td>\n",
       "      <td>0.0</td>\n",
       "      <td>0.0</td>\n",
       "      <td>0.0</td>\n",
       "      <td>0.0</td>\n",
       "      <td>27.1</td>\n",
       "      <td>31.8</td>\n",
       "      <td>24.7</td>\n",
       "      <td>9.0</td>\n",
       "      <td>34.9</td>\n",
       "    </tr>\n",
       "    <tr>\n",
       "      <th>8</th>\n",
       "      <td>2014</td>\n",
       "      <td>1</td>\n",
       "      <td>9</td>\n",
       "      <td>2.0</td>\n",
       "      <td>1.8</td>\n",
       "      <td>2.0</td>\n",
       "      <td>2.0</td>\n",
       "      <td>25.9</td>\n",
       "      <td>29.3</td>\n",
       "      <td>24.3</td>\n",
       "      <td>5.1</td>\n",
       "      <td>25.2</td>\n",
       "    </tr>\n",
       "    <tr>\n",
       "      <th>9</th>\n",
       "      <td>2014</td>\n",
       "      <td>1</td>\n",
       "      <td>10</td>\n",
       "      <td>0.0</td>\n",
       "      <td>0.0</td>\n",
       "      <td>0.0</td>\n",
       "      <td>0.0</td>\n",
       "      <td>26.8</td>\n",
       "      <td>30.6</td>\n",
       "      <td>24.2</td>\n",
       "      <td>5.3</td>\n",
       "      <td>19.1</td>\n",
       "    </tr>\n",
       "  </tbody>\n",
       "</table>\n",
       "</div>"
      ],
      "text/plain": [
       "   Year  Month  Day  Daily Rainfall Total (mm)  Highest 30 Min Rainfall (mm)  \\\n",
       "0  2014      1    1                        0.0                           0.0   \n",
       "1  2014      1    2                        0.0                           0.0   \n",
       "2  2014      1    3                        0.0                           0.0   \n",
       "3  2014      1    4                        0.0                           0.0   \n",
       "4  2014      1    5                       18.4                           8.6   \n",
       "5  2014      1    6                       31.2                          10.0   \n",
       "6  2014      1    7                        0.0                           0.0   \n",
       "7  2014      1    8                        0.0                           0.0   \n",
       "8  2014      1    9                        2.0                           1.8   \n",
       "9  2014      1   10                        0.0                           0.0   \n",
       "\n",
       "   Highest 60 Min Rainfall (mm)  Highest 120 Min Rainfall (mm)  \\\n",
       "0                           0.0                            0.0   \n",
       "1                           0.0                            0.0   \n",
       "2                           0.0                            0.0   \n",
       "3                           0.0                            0.0   \n",
       "4                          10.8                           15.4   \n",
       "5                          10.8                           11.6   \n",
       "6                           0.0                            0.0   \n",
       "7                           0.0                            0.0   \n",
       "8                           2.0                            2.0   \n",
       "9                           0.0                            0.0   \n",
       "\n",
       "   Mean Temperature (°C)  Maximum Temperature (°C)  Minimum Temperature (°C)  \\\n",
       "0                   26.7                      29.0                      24.9   \n",
       "1                   27.4                      30.9                      25.0   \n",
       "2                   27.1                      30.4                      24.9   \n",
       "3                   27.1                      31.1                      24.9   \n",
       "4                   24.8                      26.4                      23.3   \n",
       "5                   25.3                      27.1                      23.9   \n",
       "6                   26.7                      30.7                      24.3   \n",
       "7                   27.1                      31.8                      24.7   \n",
       "8                   25.9                      29.3                      24.3   \n",
       "9                   26.8                      30.6                      24.2   \n",
       "\n",
       "   Mean Wind Speed (km/h)  Max Wind Speed (km/h)  \n",
       "0                    10.0                   29.9  \n",
       "1                    11.9                   36.0  \n",
       "2                     9.7                   33.1  \n",
       "3                     6.4                   25.9  \n",
       "4                     6.8                   25.6  \n",
       "5                     6.1                   25.6  \n",
       "6                     8.1                   33.5  \n",
       "7                     9.0                   34.9  \n",
       "8                     5.1                   25.2  \n",
       "9                     5.3                   19.1  "
      ]
     },
     "execution_count": 18,
     "metadata": {},
     "output_type": "execute_result"
    }
   ],
   "source": [
    "changi_weather.head(10)"
   ]
  },
  {
   "cell_type": "code",
   "execution_count": 19,
   "id": "5cead602-0ac3-4cd2-be88-3652476d1b02",
   "metadata": {},
   "outputs": [],
   "source": [
    "col_list = ['Highest 30 Min Rainfall (mm)', 'Highest 60 Min Rainfall (mm)', 'Highest 120 Min Rainfall (mm)', 'Mean Wind Speed (km/h)', 'Max Wind Speed (km/h)']"
   ]
  },
  {
   "cell_type": "code",
   "execution_count": 20,
   "id": "e3f75acc-90cc-4e44-879a-1c593a74b002",
   "metadata": {},
   "outputs": [
    {
     "data": {
      "image/png": "[encoded data removed]",
      "text/plain": [
       "<Figure size 640x480 with 1 Axes>"
      ]
     },
     "metadata": {},
     "output_type": "display_data"
    },
    {
     "data": {
      "image/png": "[encoded data removed]",
      "text/plain": [
       "<Figure size 640x480 with 1 Axes>"
      ]
     },
     "metadata": {},
     "output_type": "display_data"
    },
    {
     "data": {
      "image/png": "[encoded data removed]",
      "text/plain": [
       "<Figure size 640x480 with 1 Axes>"
      ]
     },
     "metadata": {},
     "output_type": "display_data"
    },
    {
     "data": {
      "image/png": "[encoded data removed]",
      "text/plain": [
       "<Figure size 640x480 with 1 Axes>"
      ]
     },
     "metadata": {},
     "output_type": "display_data"
    },
    {
     "data": {
      "image/png": "[encoded data removed]",
      "text/plain": [
       "<Figure size 640x480 with 1 Axes>"
      ]
     },
     "metadata": {},
     "output_type": "display_data"
    }
   ],
   "source": [
    "# create a histogram for each column\n",
    "for col in col_list:\n",
    "    plt.hist(changi_weather[col], bins=20)  # set the number of bins to 20, you can adjust this as needed\n",
    "    plt.title(col + ' Histogram')  # set the title of the plot\n",
    "    plt.xlabel(col)  # set the label for the x-axis\n",
    "    plt.ylabel('Frequency')  # set the label for the y-axis\n",
    "    plt.show()  # display the plot"
   ]
  },
  {
   "cell_type": "code",
   "execution_count": 21,
   "id": "6591f4ca-d331-4b47-ab35-c5e86310cb0e",
   "metadata": {},
   "outputs": [],
   "source": [
    "# impute median values due to values being right-skewed\n",
    "changi_weather['Mean Wind Speed (km/h)'].fillna(changi_weather['Mean Wind Speed (km/h)'].median(), inplace=True)\n",
    "changi_weather['Highest 120 Min Rainfall (mm)'].fillna(changi_weather['Highest 120 Min Rainfall (mm)'].median(), inplace=True)\n",
    "changi_weather['Highest 60 Min Rainfall (mm)'].fillna(changi_weather['Highest 60 Min Rainfall (mm)'].median(), inplace=True)\n",
    "changi_weather['Highest 30 Min Rainfall (mm)'].fillna(changi_weather['Highest 30 Min Rainfall (mm)'].median(), inplace=True)"
   ]
  },
  {
   "cell_type": "code",
   "execution_count": 22,
   "id": "614ca6cd-aaaa-4d55-8621-24b7d3a12c33",
   "metadata": {},
   "outputs": [],
   "source": [
    "# impute mean values due to normal distribution\n",
    "changi_weather['Max Wind Speed (km/h)'].fillna(changi_weather['Max Wind Speed (km/h)'].mean(), inplace=True)"
   ]
  },
  {
   "cell_type": "code",
   "execution_count": 23,
   "id": "d079b6fd-946b-4763-a03d-10118ed9c71f",
   "metadata": {},
   "outputs": [
    {
     "data": {
      "text/plain": [
       "Year                             0\n",
       "Month                            0\n",
       "Day                              0\n",
       "Daily Rainfall Total (mm)        0\n",
       "Highest 30 Min Rainfall (mm)     0\n",
       "Highest 60 Min Rainfall (mm)     0\n",
       "Highest 120 Min Rainfall (mm)    0\n",
       "Mean Temperature (°C)            0\n",
       "Maximum Temperature (°C)         0\n",
       "Minimum Temperature (°C)         0\n",
       "Mean Wind Speed (km/h)           0\n",
       "Max Wind Speed (km/h)            0\n",
       "dtype: int64"
      ]
     },
     "execution_count": 23,
     "metadata": {},
     "output_type": "execute_result"
    }
   ],
   "source": [
    "# check null values are handled\n",
    "changi_weather.isnull().sum()"
   ]
  },
  {
   "cell_type": "code",
   "execution_count": 29,
   "id": "7bbcd800-325b-434a-9e14-e64a9b2d43bb",
   "metadata": {},
   "outputs": [],
   "source": [
    "# create a column for date\n",
    "changi_weather[\"date\"] = pd.to_datetime(changi_weather[[\"Year\", \"Month\", \"Day\"]])"
   ]
  },
  {
   "cell_type": "code",
   "execution_count": 30,
   "id": "0141f4df-477a-4b9a-a2da-940d60eae409",
   "metadata": {},
   "outputs": [
    {
     "name": "stderr",
     "output_type": "stream",
     "text": [
      "/var/folders/90/274n3kt55bl4fjg8t134196r0000gn/T/ipykernel_3882/170966093.py:2: FutureWarning: Series.dt.weekofyear and Series.dt.week have been deprecated. Please use Series.dt.isocalendar().week instead.\n",
      "  changi_weather[\"week\"]=changi_weather[\"date\"].dt.week\n"
     ]
    }
   ],
   "source": [
    "# create a column for weeks\n",
    "changi_weather[\"week\"]=changi_weather[\"date\"].dt.week"
   ]
  },
  {
   "cell_type": "code",
   "execution_count": 31,
   "id": "d97d79b9-f3dd-4d88-8cb2-60966ccbe5f8",
   "metadata": {},
   "outputs": [
    {
     "data": {
      "text/plain": [
       "Year                                      int64\n",
       "Month                                     int64\n",
       "Day                                       int64\n",
       "Daily Rainfall Total (mm)               float64\n",
       "Highest 30 Min Rainfall (mm)            float64\n",
       "Highest 60 Min Rainfall (mm)            float64\n",
       "Highest 120 Min Rainfall (mm)           float64\n",
       "Mean Temperature (°C)                   float64\n",
       "Maximum Temperature (°C)                float64\n",
       "Minimum Temperature (°C)                float64\n",
       "Mean Wind Speed (km/h)                  float64\n",
       "Max Wind Speed (km/h)                   float64\n",
       "date                             datetime64[ns]\n",
       "week                                      int64\n",
       "dtype: object"
      ]
     },
     "execution_count": 31,
     "metadata": {},
     "output_type": "execute_result"
    }
   ],
   "source": [
    "changi_weather.dtypes"
   ]
  },
  {
   "cell_type": "code",
   "execution_count": 32,
   "id": "2244f1b0-9227-408a-b713-e4a3572062ed",
   "metadata": {},
   "outputs": [],
   "source": [
    "# export cleaned dataframe\n",
    "changi_weather.to_csv('../../assets/cleaned_changi_weather.csv', index=False)"
   ]
  }
 ],
 "metadata": {
  "kernelspec": {
   "display_name": "dsi-sg",
   "language": "python",
   "name": "dsi-sg"
  },
  "language_info": {
   "codemirror_mode": {
    "name": "ipython",
    "version": 3
   },
   "file_extension": ".py",
   "mimetype": "text/x-python",
   "name": "python",
   "nbconvert_exporter": "python",
   "pygments_lexer": "ipython3",
   "version": "3.9.13"
  }
 },
 "nbformat": 4,
 "nbformat_minor": 5
}
